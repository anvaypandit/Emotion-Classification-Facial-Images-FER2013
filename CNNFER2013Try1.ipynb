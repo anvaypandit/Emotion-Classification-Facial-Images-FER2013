{
  "nbformat": 4,
  "nbformat_minor": 0,
  "metadata": {
    "colab": {
      "name": "CNNFER2013Try1.ipynb",
      "version": "0.3.2",
      "provenance": [],
      "collapsed_sections": [],
      "toc_visible": true
    },
    "kernelspec": {
      "name": "python3",
      "display_name": "Python 3"
    },
    "accelerator": "GPU"
  },
  "cells": [
    {
      "metadata": {
        "id": "FNxzmpceMgoG",
        "colab_type": "code",
        "outputId": "fe6b4adf-895a-4d80-f66b-eedbccd90f27",
        "colab": {
          "base_uri": "https://localhost:8080/",
          "height": 35
        }
      },
      "cell_type": "code",
      "source": [
        "!python image_preprocessor.py"
      ],
      "execution_count": 0,
      "outputs": [
        {
          "output_type": "stream",
          "text": [
            "Using TensorFlow backend.\n"
          ],
          "name": "stdout"
        }
      ]
    },
    {
      "metadata": {
        "id": "nHqoS0MZxBer",
        "colab_type": "code",
        "outputId": "3196907c-b136-4f2a-b32c-4849686e5d7e",
        "colab": {
          "base_uri": "https://localhost:8080/",
          "height": 121
        }
      },
      "cell_type": "code",
      "source": [
        "!git clone https://github.com/anvaypandit/Emotion-Classification-Facial-Images-FER2013.git"
      ],
      "execution_count": 0,
      "outputs": [
        {
          "output_type": "stream",
          "text": [
            "Cloning into 'Emotion-Classification-Facial-Images-FER2013'...\n",
            "remote: Enumerating objects: 19, done.\u001b[K\n",
            "remote: Counting objects: 100% (19/19), done.\u001b[K\n",
            "remote: Compressing objects: 100% (12/12), done.\u001b[K\n",
            "remote: Total 19 (delta 3), reused 16 (delta 3), pack-reused 0\u001b[K\n",
            "Unpacking objects: 100% (19/19), done.\n"
          ],
          "name": "stdout"
        }
      ]
    },
    {
      "metadata": {
        "id": "F9sIv0uUPfIH",
        "colab_type": "text"
      },
      "cell_type": "markdown",
      "source": [
        "# New Section"
      ]
    },
    {
      "metadata": {
        "id": "EDHFwEe9PfT-",
        "colab_type": "text"
      },
      "cell_type": "markdown",
      "source": [
        "# New Section"
      ]
    },
    {
      "metadata": {
        "id": "3_YCkstzxWm7",
        "colab_type": "code",
        "outputId": "406ef1fc-988b-42e9-9688-878b5a38c65b",
        "colab": {
          "base_uri": "https://localhost:8080/",
          "height": 35
        }
      },
      "cell_type": "code",
      "source": [
        "cd Emotion-Classification-Facial-Images-FER2013/"
      ],
      "execution_count": 0,
      "outputs": [
        {
          "output_type": "stream",
          "text": [
            "/content/Emotion-Classification-Facial-Images-FER2013\n"
          ],
          "name": "stdout"
        }
      ]
    },
    {
      "metadata": {
        "id": "sHTzU4Ciw_Z1",
        "colab_type": "text"
      },
      "cell_type": "markdown",
      "source": [
        ""
      ]
    },
    {
      "metadata": {
        "id": "OGXu9eiKpcU7",
        "colab_type": "code",
        "outputId": "55087740-bf40-44a5-c1da-7cc20a65a10c",
        "colab": {
          "base_uri": "https://localhost:8080/",
          "height": 35
        }
      },
      "cell_type": "code",
      "source": [
        "cd .."
      ],
      "execution_count": 0,
      "outputs": [
        {
          "output_type": "stream",
          "text": [
            "/content/Emotion-Classification-Facial-Images-FER2013\n"
          ],
          "name": "stdout"
        }
      ]
    },
    {
      "metadata": {
        "id": "ICuuDEPstino",
        "colab_type": "code",
        "colab": {}
      },
      "cell_type": "code",
      "source": [
        "from PIL import Image\n",
        "im = Image.open(\"data/Train/0/Image_0.png\")"
      ],
      "execution_count": 0,
      "outputs": []
    },
    {
      "metadata": {
        "id": "6pdpQH_3uL3S",
        "colab_type": "code",
        "outputId": "28e86f10-0330-4be7-8145-4407ba4040f5",
        "colab": {
          "base_uri": "https://localhost:8080/",
          "height": 35
        }
      },
      "cell_type": "code",
      "source": [
        "im.getbands()"
      ],
      "execution_count": 0,
      "outputs": [
        {
          "output_type": "execute_result",
          "data": {
            "text/plain": [
              "('L',)"
            ]
          },
          "metadata": {
            "tags": []
          },
          "execution_count": 42
        }
      ]
    },
    {
      "metadata": {
        "id": "Dkzbn_ryPdEr",
        "colab_type": "code",
        "outputId": "a1f80656-53dc-4599-9a95-b598fe6ed7a9",
        "colab": {
          "base_uri": "https://localhost:8080/",
          "height": 35
        }
      },
      "cell_type": "code",
      "source": [
        "import theano\n",
        "import os\n",
        "from keras.layers import Dense, Convolution2D, UpSampling2D, MaxPooling2D, ZeroPadding2D, Flatten, Dropout, Reshape\n",
        "from keras.models import Sequential\n",
        "from keras.utils import np_utils"
      ],
      "execution_count": 0,
      "outputs": [
        {
          "output_type": "stream",
          "text": [
            "Using TensorFlow backend.\n"
          ],
          "name": "stderr"
        }
      ]
    },
    {
      "metadata": {
        "id": "vmrHTK6OQJ4N",
        "colab_type": "code",
        "colab": {}
      },
      "cell_type": "code",
      "source": [
        "import tensorflow as tf\n",
        "import keras\n",
        "from keras.models import Sequential\n",
        "from keras.layers import Dense, Dropout, Activation, Flatten\n",
        "from keras.layers import Convolution2D, MaxPooling2D\n",
        "from keras.optimizers import Adadelta\n",
        "from keras.utils import np_utils\n",
        "from keras.regularizers import l2\n",
        "import numpy\n",
        "import csv\n",
        "import scipy.misc\n",
        "import scipy\n",
        "from scipy import ndimage\n",
        "import numpy as np\n",
        "from keras.preprocessing.image import ImageDataGenerator"
      ],
      "execution_count": 0,
      "outputs": []
    },
    {
      "metadata": {
        "id": "PYTw2eOiQtjh",
        "colab_type": "code",
        "outputId": "36be497f-5c34-47f1-b7c0-b2dadcded206",
        "colab": {
          "base_uri": "https://localhost:8080/",
          "height": 1701
        }
      },
      "cell_type": "code",
      "source": [
        "img_rows, img_cols = 48, 48\n",
        "model = Sequential()\n",
        "model.add(Convolution2D(64, 5, 5, border_mode='valid',\n",
        "                        input_shape=(img_rows, img_cols,1)))\n",
        "model.add(keras.layers.advanced_activations.PReLU(init='zero', weights=None))\n",
        "model.add(keras.layers.convolutional.ZeroPadding2D(padding=(2, 2), dim_ordering='th'))\n",
        "model.add(MaxPooling2D(pool_size=(5, 5),strides=(2, 2)))\n",
        "\n",
        "model.add(keras.layers.convolutional.ZeroPadding2D(padding=(1, 1), dim_ordering='th')) \n",
        "model.add(Convolution2D(64, 3, 3))\n",
        "model.add(keras.layers.advanced_activations.PReLU(init='zero', weights=None))\n",
        "model.add(keras.layers.convolutional.ZeroPadding2D(padding=(1, 1), dim_ordering='th')) \n",
        "model.add(Convolution2D(64, 3, 3))\n",
        "model.add(keras.layers.advanced_activations.PReLU(init='zero', weights=None))\n",
        "model.add(keras.layers.convolutional.AveragePooling2D(pool_size=(3, 3),strides=(2, 2)))\n",
        "\n",
        "model.add(keras.layers.convolutional.ZeroPadding2D(padding=(1, 1), dim_ordering='th'))\n",
        "model.add(Convolution2D(128, 3, 3))\n",
        "model.add(keras.layers.advanced_activations.PReLU(init='zero', weights=None))\n",
        "model.add(keras.layers.convolutional.ZeroPadding2D(padding=(1, 1), dim_ordering='th'))\n",
        "model.add(Convolution2D(128, 3, 3))\n",
        "model.add(keras.layers.advanced_activations.PReLU(init='zero', weights=None))\n",
        "\n",
        "model.add(keras.layers.convolutional.ZeroPadding2D(padding=(1, 1), dim_ordering='th'))\n",
        "model.add(keras.layers.convolutional.AveragePooling2D(pool_size=(3, 3),strides=(2, 2)))\n",
        "\n",
        "model.add(Flatten())\n",
        "model.add(Dense(1024))\n",
        "model.add(keras.layers.advanced_activations.PReLU(init='zero', weights=None))\n",
        "model.add(Dropout(0.2))\n",
        "model.add(Dense(1024))\n",
        "model.add(keras.layers.advanced_activations.PReLU(init='zero', weights=None))\n",
        "model.add(Dropout(0.2))\n",
        "\n",
        "model.add(Dense(7))\n",
        "\n",
        "\n",
        "model.add(Activation('softmax'))\n",
        "\n",
        "ada = Adadelta(lr=0.1, rho=0.95, epsilon=1e-08)\n",
        "model.compile(loss='categorical_crossentropy',\n",
        "              optimizer=ada,\n",
        "              metrics=['accuracy'])\n",
        "model.summary()"
      ],
      "execution_count": 0,
      "outputs": [
        {
          "output_type": "stream",
          "text": [
            "WARNING:tensorflow:From /usr/local/lib/python3.6/dist-packages/tensorflow/python/framework/op_def_library.py:263: colocate_with (from tensorflow.python.framework.ops) is deprecated and will be removed in a future version.\n",
            "Instructions for updating:\n",
            "Colocations handled automatically by placer.\n"
          ],
          "name": "stdout"
        },
        {
          "output_type": "stream",
          "text": [
            "/usr/local/lib/python3.6/dist-packages/ipykernel_launcher.py:4: UserWarning: Update your `Conv2D` call to the Keras 2 API: `Conv2D(64, (5, 5), input_shape=(48, 48, 1..., padding=\"valid\")`\n",
            "  after removing the cwd from sys.path.\n",
            "/usr/local/lib/python3.6/dist-packages/ipykernel_launcher.py:5: UserWarning: Update your `PReLU` call to the Keras 2 API: `PReLU(weights=None, alpha_initializer=\"zero\")`\n",
            "  \"\"\"\n",
            "/usr/local/lib/python3.6/dist-packages/ipykernel_launcher.py:6: UserWarning: Update your `ZeroPadding2D` call to the Keras 2 API: `ZeroPadding2D(padding=(2, 2), data_format=\"channels_first\")`\n",
            "  \n",
            "/usr/local/lib/python3.6/dist-packages/ipykernel_launcher.py:9: UserWarning: Update your `ZeroPadding2D` call to the Keras 2 API: `ZeroPadding2D(padding=(1, 1), data_format=\"channels_first\")`\n",
            "  if __name__ == '__main__':\n",
            "/usr/local/lib/python3.6/dist-packages/ipykernel_launcher.py:10: UserWarning: Update your `Conv2D` call to the Keras 2 API: `Conv2D(64, (3, 3))`\n",
            "  # Remove the CWD from sys.path while we load stuff.\n",
            "/usr/local/lib/python3.6/dist-packages/ipykernel_launcher.py:11: UserWarning: Update your `PReLU` call to the Keras 2 API: `PReLU(weights=None, alpha_initializer=\"zero\")`\n",
            "  # This is added back by InteractiveShellApp.init_path()\n",
            "/usr/local/lib/python3.6/dist-packages/ipykernel_launcher.py:12: UserWarning: Update your `ZeroPadding2D` call to the Keras 2 API: `ZeroPadding2D(padding=(1, 1), data_format=\"channels_first\")`\n",
            "  if sys.path[0] == '':\n",
            "/usr/local/lib/python3.6/dist-packages/ipykernel_launcher.py:13: UserWarning: Update your `Conv2D` call to the Keras 2 API: `Conv2D(64, (3, 3))`\n",
            "  del sys.path[0]\n",
            "/usr/local/lib/python3.6/dist-packages/ipykernel_launcher.py:14: UserWarning: Update your `PReLU` call to the Keras 2 API: `PReLU(weights=None, alpha_initializer=\"zero\")`\n",
            "  \n",
            "/usr/local/lib/python3.6/dist-packages/ipykernel_launcher.py:17: UserWarning: Update your `ZeroPadding2D` call to the Keras 2 API: `ZeroPadding2D(padding=(1, 1), data_format=\"channels_first\")`\n",
            "/usr/local/lib/python3.6/dist-packages/ipykernel_launcher.py:18: UserWarning: Update your `Conv2D` call to the Keras 2 API: `Conv2D(128, (3, 3))`\n",
            "/usr/local/lib/python3.6/dist-packages/ipykernel_launcher.py:19: UserWarning: Update your `PReLU` call to the Keras 2 API: `PReLU(weights=None, alpha_initializer=\"zero\")`\n",
            "/usr/local/lib/python3.6/dist-packages/ipykernel_launcher.py:20: UserWarning: Update your `ZeroPadding2D` call to the Keras 2 API: `ZeroPadding2D(padding=(1, 1), data_format=\"channels_first\")`\n",
            "/usr/local/lib/python3.6/dist-packages/ipykernel_launcher.py:21: UserWarning: Update your `Conv2D` call to the Keras 2 API: `Conv2D(128, (3, 3))`\n",
            "/usr/local/lib/python3.6/dist-packages/ipykernel_launcher.py:22: UserWarning: Update your `PReLU` call to the Keras 2 API: `PReLU(weights=None, alpha_initializer=\"zero\")`\n",
            "/usr/local/lib/python3.6/dist-packages/ipykernel_launcher.py:24: UserWarning: Update your `ZeroPadding2D` call to the Keras 2 API: `ZeroPadding2D(padding=(1, 1), data_format=\"channels_first\")`\n",
            "/usr/local/lib/python3.6/dist-packages/ipykernel_launcher.py:29: UserWarning: Update your `PReLU` call to the Keras 2 API: `PReLU(weights=None, alpha_initializer=\"zero\")`\n"
          ],
          "name": "stderr"
        },
        {
          "output_type": "stream",
          "text": [
            "WARNING:tensorflow:From /usr/local/lib/python3.6/dist-packages/keras/backend/tensorflow_backend.py:3445: calling dropout (from tensorflow.python.ops.nn_ops) with keep_prob is deprecated and will be removed in a future version.\n",
            "Instructions for updating:\n",
            "Please use `rate` instead of `keep_prob`. Rate should be set to `rate = 1 - keep_prob`.\n",
            "_________________________________________________________________\n",
            "Layer (type)                 Output Shape              Param #   \n",
            "=================================================================\n",
            "conv2d_1 (Conv2D)            (None, 44, 44, 64)        1664      \n",
            "_________________________________________________________________\n",
            "p_re_lu_1 (PReLU)            (None, 44, 44, 64)        123904    \n",
            "_________________________________________________________________\n",
            "zero_padding2d_1 (ZeroPaddin (None, 44, 48, 68)        0         \n",
            "_________________________________________________________________\n",
            "max_pooling2d_1 (MaxPooling2 (None, 20, 22, 68)        0         \n",
            "_________________________________________________________________\n",
            "zero_padding2d_2 (ZeroPaddin (None, 20, 24, 70)        0         \n",
            "_________________________________________________________________\n",
            "conv2d_2 (Conv2D)            (None, 18, 22, 64)        40384     \n",
            "_________________________________________________________________\n",
            "p_re_lu_2 (PReLU)            (None, 18, 22, 64)        25344     \n",
            "_________________________________________________________________\n",
            "zero_padding2d_3 (ZeroPaddin (None, 18, 24, 66)        0         \n",
            "_________________________________________________________________\n",
            "conv2d_3 (Conv2D)            (None, 16, 22, 64)        38080     \n",
            "_________________________________________________________________\n",
            "p_re_lu_3 (PReLU)            (None, 16, 22, 64)        22528     \n",
            "_________________________________________________________________\n",
            "average_pooling2d_1 (Average (None, 7, 10, 64)         0         \n",
            "_________________________________________________________________\n",
            "zero_padding2d_4 (ZeroPaddin (None, 7, 12, 66)         0         \n",
            "_________________________________________________________________\n",
            "conv2d_4 (Conv2D)            (None, 5, 10, 128)        76160     \n",
            "_________________________________________________________________\n",
            "p_re_lu_4 (PReLU)            (None, 5, 10, 128)        6400      \n",
            "_________________________________________________________________\n",
            "zero_padding2d_5 (ZeroPaddin (None, 5, 12, 130)        0         \n",
            "_________________________________________________________________\n",
            "conv2d_5 (Conv2D)            (None, 3, 10, 128)        149888    \n",
            "_________________________________________________________________\n",
            "p_re_lu_5 (PReLU)            (None, 3, 10, 128)        3840      \n",
            "_________________________________________________________________\n",
            "zero_padding2d_6 (ZeroPaddin (None, 3, 12, 130)        0         \n",
            "_________________________________________________________________\n",
            "average_pooling2d_2 (Average (None, 1, 5, 130)         0         \n",
            "_________________________________________________________________\n",
            "flatten_1 (Flatten)          (None, 650)               0         \n",
            "_________________________________________________________________\n",
            "dense_1 (Dense)              (None, 1024)              666624    \n",
            "_________________________________________________________________\n",
            "p_re_lu_6 (PReLU)            (None, 1024)              1024      \n",
            "_________________________________________________________________\n",
            "dropout_1 (Dropout)          (None, 1024)              0         \n",
            "_________________________________________________________________\n",
            "dense_2 (Dense)              (None, 1024)              1049600   \n",
            "_________________________________________________________________\n",
            "p_re_lu_7 (PReLU)            (None, 1024)              1024      \n",
            "_________________________________________________________________\n",
            "dropout_2 (Dropout)          (None, 1024)              0         \n",
            "_________________________________________________________________\n",
            "dense_3 (Dense)              (None, 7)                 7175      \n",
            "_________________________________________________________________\n",
            "activation_1 (Activation)    (None, 7)                 0         \n",
            "=================================================================\n",
            "Total params: 2,213,639\n",
            "Trainable params: 2,213,639\n",
            "Non-trainable params: 0\n",
            "_________________________________________________________________\n"
          ],
          "name": "stdout"
        },
        {
          "output_type": "stream",
          "text": [
            "/usr/local/lib/python3.6/dist-packages/ipykernel_launcher.py:32: UserWarning: Update your `PReLU` call to the Keras 2 API: `PReLU(weights=None, alpha_initializer=\"zero\")`\n"
          ],
          "name": "stderr"
        }
      ]
    },
    {
      "metadata": {
        "id": "soYMurqPM2Gj",
        "colab_type": "code",
        "outputId": "e582c56e-ec54-4ffe-c33f-9f3b45aa9732",
        "colab": {
          "base_uri": "https://localhost:8080/",
          "height": 7005
        }
      },
      "cell_type": "code",
      "source": [
        "train_datagen = ImageDataGenerator(\n",
        "    featurewise_center=True,  # set each sample mean to 0\n",
        "    featurewise_std_normalization=True,  # divide each input by its std\n",
        "    zca_whitening=False,  # apply ZCA whitening\n",
        "    rotation_range=40,  # randomly rotate images in the range (degrees, 0 to 180)\n",
        "    width_shift_range=0.2,  # randomly shift images horizontally (fraction of total width)\n",
        "    height_shift_range=0.2,  # randomly shift images vertically (fraction of total height)\n",
        "    horizontal_flip=True,  # randomly flip images\n",
        "    data_format='channels_last',\n",
        "    rescale=(1/255.),\n",
        "    vertical_flip=False)  # randomly flip images\n",
        "\n",
        "test_datagen = ImageDataGenerator(\n",
        "    featurewise_center=True,  # set each sample mean to 0\n",
        "    data_format='channels_last',\n",
        "    rescale=(1/255.),\n",
        "    featurewise_std_normalization=True)\n",
        "\n",
        "\n",
        "train_generator = train_datagen.flow_from_directory(\n",
        "        'data/Train',\n",
        "        target_size=(48,48),\n",
        "        batch_size=128,\n",
        "        color_mode = 'grayscale',\n",
        "        class_mode='categorical')\n",
        "\n",
        "validation_generator = test_datagen.flow_from_directory(\n",
        "        'data/Valid',\n",
        "        target_size=(48,48),\n",
        "        batch_size = 128,\n",
        "        color_mode = 'grayscale',\n",
        "        class_mode='categorical')\n",
        "\n",
        "\n",
        "\n",
        "filepath='Try3/Model.{epoch:02d}-{val_acc:.4f}.hdf5'\n",
        "checkpointer = keras.callbacks.ModelCheckpoint(filepath, monitor='val_acc', verbose=1, save_best_only=True, mode='auto')\n",
        "\n",
        "model.fit_generator(train_generator,\n",
        "                    nb_epoch=300,\n",
        "                    validation_data=validation_generator,\n",
        "                    validation_steps = 28,\n",
        "                    samples_per_epoch=28709,\n",
        "                    callbacks=[checkpointer])"
      ],
      "execution_count": 0,
      "outputs": [
        {
          "output_type": "stream",
          "text": [
            "Found 28709 images belonging to 7 classes.\n",
            "Found 3589 images belonging to 7 classes.\n",
            "Epoch 1/300\n"
          ],
          "name": "stdout"
        },
        {
          "output_type": "stream",
          "text": [
            "/usr/local/lib/python3.6/dist-packages/ipykernel_launcher.py:44: UserWarning: The semantics of the Keras 2 argument `steps_per_epoch` is not the same as the Keras 1 argument `samples_per_epoch`. `steps_per_epoch` is the number of batches to draw from the generator at each epoch. Basically steps_per_epoch = samples_per_epoch/batch_size. Similarly `nb_val_samples`->`validation_steps` and `val_samples`->`steps` arguments have changed. Update your method calls accordingly.\n",
            "/usr/local/lib/python3.6/dist-packages/ipykernel_launcher.py:44: UserWarning: Update your `fit_generator` call to the Keras 2 API: `fit_generator(<keras_pre..., validation_data=<keras_pre..., validation_steps=28, callbacks=[<keras.ca..., steps_per_epoch=224, epochs=300)`\n",
            "/usr/local/lib/python3.6/dist-packages/keras_preprocessing/image/image_data_generator.py:699: UserWarning: This ImageDataGenerator specifies `featurewise_center`, but it hasn't been fit on any training data. Fit it first by calling `.fit(numpy_data)`.\n",
            "  warnings.warn('This ImageDataGenerator specifies '\n",
            "/usr/local/lib/python3.6/dist-packages/keras_preprocessing/image/image_data_generator.py:707: UserWarning: This ImageDataGenerator specifies `featurewise_std_normalization`, but it hasn't been fit on any training data. Fit it first by calling `.fit(numpy_data)`.\n",
            "  warnings.warn('This ImageDataGenerator specifies '\n"
          ],
          "name": "stderr"
        },
        {
          "output_type": "stream",
          "text": [
            "224/224 [==============================] - 43s 193ms/step - loss: 1.1758 - acc: 0.5511 - val_loss: 1.1416 - val_acc: 0.5700\n",
            "\n",
            "Epoch 00001: val_acc improved from -inf to 0.57003, saving model to Try3/Model.01-0.5700.hdf5\n",
            "Epoch 2/300\n",
            "224/224 [==============================] - 41s 184ms/step - loss: 1.1777 - acc: 0.5543 - val_loss: 1.1417 - val_acc: 0.5652\n",
            "\n",
            "Epoch 00002: val_acc did not improve from 0.57003\n",
            "Epoch 3/300\n",
            "224/224 [==============================] - 41s 182ms/step - loss: 1.1701 - acc: 0.5564 - val_loss: 1.1489 - val_acc: 0.5646\n",
            "\n",
            "Epoch 00003: val_acc did not improve from 0.57003\n",
            "Epoch 4/300\n",
            "224/224 [==============================] - 40s 180ms/step - loss: 1.1745 - acc: 0.5565 - val_loss: 1.1763 - val_acc: 0.5498\n",
            "\n",
            "Epoch 00004: val_acc did not improve from 0.57003\n",
            "Epoch 5/300\n",
            "224/224 [==============================] - 40s 178ms/step - loss: 1.1720 - acc: 0.5539 - val_loss: 1.1599 - val_acc: 0.5553\n",
            "\n",
            "Epoch 00005: val_acc did not improve from 0.57003\n",
            "Epoch 6/300\n",
            "224/224 [==============================] - 40s 177ms/step - loss: 1.1676 - acc: 0.5577 - val_loss: 1.1309 - val_acc: 0.5660\n",
            "\n",
            "Epoch 00006: val_acc did not improve from 0.57003\n",
            "Epoch 7/300\n",
            "224/224 [==============================] - 41s 183ms/step - loss: 1.1744 - acc: 0.5538 - val_loss: 1.1512 - val_acc: 0.5611\n",
            "\n",
            "Epoch 00007: val_acc did not improve from 0.57003\n",
            "Epoch 8/300\n",
            "224/224 [==============================] - 40s 181ms/step - loss: 1.1671 - acc: 0.5575 - val_loss: 1.1772 - val_acc: 0.5548\n",
            "\n",
            "Epoch 00008: val_acc did not improve from 0.57003\n",
            "Epoch 9/300\n",
            "224/224 [==============================] - 40s 179ms/step - loss: 1.1652 - acc: 0.5594 - val_loss: 1.1367 - val_acc: 0.5643\n",
            "\n",
            "Epoch 00009: val_acc did not improve from 0.57003\n",
            "Epoch 10/300\n",
            "224/224 [==============================] - 39s 176ms/step - loss: 1.1718 - acc: 0.5570 - val_loss: 1.1979 - val_acc: 0.5409\n",
            "\n",
            "Epoch 00010: val_acc did not improve from 0.57003\n",
            "Epoch 11/300\n",
            "224/224 [==============================] - 39s 175ms/step - loss: 1.1706 - acc: 0.5577 - val_loss: 1.1769 - val_acc: 0.5602\n",
            "\n",
            "Epoch 00011: val_acc did not improve from 0.57003\n",
            "Epoch 12/300\n",
            "224/224 [==============================] - 41s 182ms/step - loss: 1.1665 - acc: 0.5580 - val_loss: 1.1598 - val_acc: 0.5588\n",
            "\n",
            "Epoch 00012: val_acc did not improve from 0.57003\n",
            "Epoch 13/300\n",
            "224/224 [==============================] - 41s 182ms/step - loss: 1.1593 - acc: 0.5602 - val_loss: 1.1824 - val_acc: 0.5553\n",
            "\n",
            "Epoch 00013: val_acc did not improve from 0.57003\n",
            "Epoch 14/300\n",
            "224/224 [==============================] - 40s 177ms/step - loss: 1.1600 - acc: 0.5604 - val_loss: 1.1655 - val_acc: 0.5565\n",
            "\n",
            "Epoch 00014: val_acc did not improve from 0.57003\n",
            "Epoch 15/300\n",
            "224/224 [==============================] - 39s 176ms/step - loss: 1.1619 - acc: 0.5592 - val_loss: 1.1105 - val_acc: 0.5779\n",
            "\n",
            "Epoch 00015: val_acc improved from 0.57003 to 0.57787, saving model to Try3/Model.15-0.5779.hdf5\n",
            "Epoch 16/300\n",
            "224/224 [==============================] - 39s 176ms/step - loss: 1.1643 - acc: 0.5595 - val_loss: 1.1554 - val_acc: 0.5678\n",
            "\n",
            "Epoch 00016: val_acc did not improve from 0.57787\n",
            "Epoch 17/300\n",
            "224/224 [==============================] - 41s 183ms/step - loss: 1.1625 - acc: 0.5632 - val_loss: 1.1775 - val_acc: 0.5585\n",
            "\n",
            "Epoch 00017: val_acc did not improve from 0.57787\n",
            "Epoch 18/300\n",
            "224/224 [==============================] - 41s 181ms/step - loss: 1.1649 - acc: 0.5622 - val_loss: 1.1318 - val_acc: 0.5678\n",
            "\n",
            "Epoch 00018: val_acc did not improve from 0.57787\n",
            "Epoch 19/300\n",
            "224/224 [==============================] - 40s 177ms/step - loss: 1.1553 - acc: 0.5619 - val_loss: 1.1431 - val_acc: 0.5678\n",
            "\n",
            "Epoch 00019: val_acc did not improve from 0.57787\n",
            "Epoch 20/300\n",
            "224/224 [==============================] - 40s 177ms/step - loss: 1.1593 - acc: 0.5603 - val_loss: 1.1364 - val_acc: 0.5767\n",
            "\n",
            "Epoch 00020: val_acc did not improve from 0.57787\n",
            "Epoch 21/300\n",
            "224/224 [==============================] - 42s 186ms/step - loss: 1.1614 - acc: 0.5567 - val_loss: 1.1318 - val_acc: 0.5683\n",
            "\n",
            "Epoch 00021: val_acc did not improve from 0.57787\n",
            "Epoch 22/300\n",
            "224/224 [==============================] - 41s 182ms/step - loss: 1.1535 - acc: 0.5637 - val_loss: 1.1716 - val_acc: 0.5507\n",
            "\n",
            "Epoch 00022: val_acc did not improve from 0.57787\n",
            "Epoch 23/300\n",
            "224/224 [==============================] - 40s 180ms/step - loss: 1.1563 - acc: 0.5640 - val_loss: 1.1216 - val_acc: 0.5787\n",
            "\n",
            "Epoch 00023: val_acc improved from 0.57787 to 0.57873, saving model to Try3/Model.23-0.5787.hdf5\n",
            "Epoch 24/300\n",
            "224/224 [==============================] - 40s 178ms/step - loss: 1.1536 - acc: 0.5636 - val_loss: 1.1504 - val_acc: 0.5646\n",
            "\n",
            "Epoch 00024: val_acc did not improve from 0.57873\n",
            "Epoch 25/300\n",
            "224/224 [==============================] - 40s 177ms/step - loss: 1.1493 - acc: 0.5622 - val_loss: 1.1497 - val_acc: 0.5559\n",
            "\n",
            "Epoch 00025: val_acc did not improve from 0.57873\n",
            "Epoch 26/300\n",
            "224/224 [==============================] - 41s 184ms/step - loss: 1.1561 - acc: 0.5624 - val_loss: 1.1319 - val_acc: 0.5704\n",
            "\n",
            "Epoch 00026: val_acc did not improve from 0.57873\n",
            "Epoch 27/300\n",
            "224/224 [==============================] - 41s 182ms/step - loss: 1.1510 - acc: 0.5619 - val_loss: 1.1163 - val_acc: 0.5738\n",
            "\n",
            "Epoch 00027: val_acc did not improve from 0.57873\n",
            "Epoch 28/300\n",
            "224/224 [==============================] - 40s 180ms/step - loss: 1.1574 - acc: 0.5629 - val_loss: 1.1164 - val_acc: 0.5718\n",
            "\n",
            "Epoch 00028: val_acc did not improve from 0.57873\n",
            "Epoch 29/300\n",
            "224/224 [==============================] - 40s 178ms/step - loss: 1.1557 - acc: 0.5630 - val_loss: 1.1384 - val_acc: 0.5695\n",
            "\n",
            "Epoch 00029: val_acc did not improve from 0.57873\n",
            "Epoch 30/300\n",
            "224/224 [==============================] - 40s 176ms/step - loss: 1.1537 - acc: 0.5609 - val_loss: 1.1457 - val_acc: 0.5670\n",
            "\n",
            "Epoch 00030: val_acc did not improve from 0.57873\n",
            "Epoch 31/300\n",
            "224/224 [==============================] - 41s 183ms/step - loss: 1.1517 - acc: 0.5626 - val_loss: 1.1519 - val_acc: 0.5620\n",
            "\n",
            "Epoch 00031: val_acc did not improve from 0.57873\n",
            "Epoch 32/300\n",
            "224/224 [==============================] - 41s 183ms/step - loss: 1.1523 - acc: 0.5659 - val_loss: 1.1590 - val_acc: 0.5669\n",
            "\n",
            "Epoch 00032: val_acc did not improve from 0.57873\n",
            "Epoch 33/300\n",
            "224/224 [==============================] - 40s 179ms/step - loss: 1.1466 - acc: 0.5654 - val_loss: 1.1330 - val_acc: 0.5680\n",
            "\n",
            "Epoch 00033: val_acc did not improve from 0.57873\n",
            "Epoch 34/300\n",
            "224/224 [==============================] - 40s 178ms/step - loss: 1.1459 - acc: 0.5704 - val_loss: 1.1524 - val_acc: 0.5496\n",
            "\n",
            "Epoch 00034: val_acc did not improve from 0.57873\n",
            "Epoch 35/300\n",
            "224/224 [==============================] - 40s 178ms/step - loss: 1.1473 - acc: 0.5646 - val_loss: 1.1290 - val_acc: 0.5747\n",
            "\n",
            "Epoch 00035: val_acc did not improve from 0.57873\n",
            "Epoch 36/300\n",
            "224/224 [==============================] - 42s 186ms/step - loss: 1.1456 - acc: 0.5638 - val_loss: 1.1371 - val_acc: 0.5799\n",
            "\n",
            "Epoch 00036: val_acc improved from 0.57873 to 0.57989, saving model to Try3/Model.36-0.5799.hdf5\n",
            "Epoch 37/300\n",
            "224/224 [==============================] - 41s 183ms/step - loss: 1.1462 - acc: 0.5648 - val_loss: 1.1292 - val_acc: 0.5741\n",
            "\n",
            "Epoch 00037: val_acc did not improve from 0.57989\n",
            "Epoch 38/300\n",
            "224/224 [==============================] - 41s 182ms/step - loss: 1.1425 - acc: 0.5689 - val_loss: 1.1346 - val_acc: 0.5680\n",
            "\n",
            "Epoch 00038: val_acc did not improve from 0.57989\n",
            "Epoch 39/300\n",
            "224/224 [==============================] - 40s 180ms/step - loss: 1.1412 - acc: 0.5697 - val_loss: 1.1009 - val_acc: 0.5805\n",
            "\n",
            "Epoch 00039: val_acc improved from 0.57989 to 0.58047, saving model to Try3/Model.39-0.5805.hdf5\n",
            "Epoch 40/300\n",
            "224/224 [==============================] - 40s 177ms/step - loss: 1.1445 - acc: 0.5638 - val_loss: 1.1592 - val_acc: 0.5640\n",
            "\n",
            "Epoch 00040: val_acc did not improve from 0.58047\n",
            "Epoch 41/300\n",
            "224/224 [==============================] - 40s 178ms/step - loss: 1.1405 - acc: 0.5680 - val_loss: 1.1371 - val_acc: 0.5695\n",
            "\n",
            "Epoch 00041: val_acc did not improve from 0.58047\n",
            "Epoch 42/300\n",
            "224/224 [==============================] - 42s 186ms/step - loss: 1.1291 - acc: 0.5728 - val_loss: 1.1076 - val_acc: 0.5767\n",
            "\n",
            "Epoch 00042: val_acc did not improve from 0.58047\n",
            "Epoch 43/300\n",
            "224/224 [==============================] - 41s 183ms/step - loss: 1.1414 - acc: 0.5702 - val_loss: 1.1380 - val_acc: 0.5663\n",
            "\n",
            "Epoch 00043: val_acc did not improve from 0.58047\n",
            "Epoch 44/300\n",
            "224/224 [==============================] - 41s 183ms/step - loss: 1.1349 - acc: 0.5697 - val_loss: 1.1443 - val_acc: 0.5634\n",
            "\n",
            "Epoch 00044: val_acc did not improve from 0.58047\n",
            "Epoch 45/300\n",
            "224/224 [==============================] - 40s 179ms/step - loss: 1.1337 - acc: 0.5708 - val_loss: 1.1217 - val_acc: 0.5779\n",
            "\n",
            "Epoch 00045: val_acc did not improve from 0.58047\n",
            "Epoch 46/300\n",
            "224/224 [==============================] - 40s 179ms/step - loss: 1.1355 - acc: 0.5702 - val_loss: 1.1090 - val_acc: 0.5865\n",
            "\n",
            "Epoch 00046: val_acc improved from 0.58047 to 0.58654, saving model to Try3/Model.46-0.5865.hdf5\n",
            "Epoch 47/300\n",
            "224/224 [==============================] - 42s 186ms/step - loss: 1.1378 - acc: 0.5718 - val_loss: 1.1430 - val_acc: 0.5660\n",
            "\n",
            "Epoch 00047: val_acc did not improve from 0.58654\n",
            "Epoch 48/300\n",
            "224/224 [==============================] - 41s 182ms/step - loss: 1.1343 - acc: 0.5704 - val_loss: 1.1340 - val_acc: 0.5704\n",
            "\n",
            "Epoch 00048: val_acc did not improve from 0.58654\n",
            "Epoch 49/300\n",
            "224/224 [==============================] - 40s 179ms/step - loss: 1.1301 - acc: 0.5747 - val_loss: 1.1228 - val_acc: 0.5750\n",
            "\n",
            "Epoch 00049: val_acc did not improve from 0.58654\n",
            "Epoch 50/300\n",
            "224/224 [==============================] - 40s 178ms/step - loss: 1.1300 - acc: 0.5735 - val_loss: 1.1808 - val_acc: 0.5467\n",
            "\n",
            "Epoch 00050: val_acc did not improve from 0.58654\n",
            "Epoch 51/300\n",
            "224/224 [==============================] - 44s 195ms/step - loss: 1.1344 - acc: 0.5704 - val_loss: 1.1046 - val_acc: 0.5808\n",
            "\n",
            "Epoch 00051: val_acc did not improve from 0.58654\n",
            "Epoch 52/300\n",
            "224/224 [==============================] - 42s 186ms/step - loss: 1.1289 - acc: 0.5736 - val_loss: 1.1218 - val_acc: 0.5819\n",
            "\n",
            "Epoch 00052: val_acc did not improve from 0.58654\n",
            "Epoch 53/300\n",
            "224/224 [==============================] - 42s 185ms/step - loss: 1.1416 - acc: 0.5689 - val_loss: 1.1188 - val_acc: 0.5727\n",
            "\n",
            "Epoch 00053: val_acc did not improve from 0.58654\n",
            "Epoch 54/300\n",
            "224/224 [==============================] - 41s 185ms/step - loss: 1.1298 - acc: 0.5708 - val_loss: 1.1141 - val_acc: 0.5805\n",
            "\n",
            "Epoch 00054: val_acc did not improve from 0.58654\n",
            "Epoch 55/300\n",
            "224/224 [==============================] - 41s 182ms/step - loss: 1.1339 - acc: 0.5710 - val_loss: 1.1087 - val_acc: 0.5822\n",
            "\n",
            "Epoch 00055: val_acc did not improve from 0.58654\n",
            "Epoch 56/300\n",
            "224/224 [==============================] - 41s 182ms/step - loss: 1.1327 - acc: 0.5746 - val_loss: 1.1217 - val_acc: 0.5756\n",
            "\n",
            "Epoch 00056: val_acc did not improve from 0.58654\n",
            "Epoch 57/300\n",
            "224/224 [==============================] - 41s 182ms/step - loss: 1.1378 - acc: 0.5691 - val_loss: 1.1338 - val_acc: 0.5701\n",
            "\n",
            "Epoch 00057: val_acc did not improve from 0.58654\n",
            "Epoch 58/300\n",
            "224/224 [==============================] - 42s 187ms/step - loss: 1.1319 - acc: 0.5741 - val_loss: 1.1324 - val_acc: 0.5764\n",
            "\n",
            "Epoch 00058: val_acc did not improve from 0.58654\n",
            "Epoch 59/300\n",
            "224/224 [==============================] - 42s 189ms/step - loss: 1.1239 - acc: 0.5755 - val_loss: 1.1352 - val_acc: 0.5700\n",
            "\n",
            "Epoch 00059: val_acc did not improve from 0.58654\n",
            "Epoch 60/300\n",
            "224/224 [==============================] - 42s 187ms/step - loss: 1.1255 - acc: 0.5749 - val_loss: 1.1158 - val_acc: 0.5724\n",
            "\n",
            "Epoch 00060: val_acc did not improve from 0.58654\n",
            "Epoch 61/300\n",
            "224/224 [==============================] - 42s 186ms/step - loss: 1.1268 - acc: 0.5707 - val_loss: 1.0939 - val_acc: 0.5857\n",
            "\n",
            "Epoch 00061: val_acc did not improve from 0.58654\n",
            "Epoch 62/300\n",
            "224/224 [==============================] - 42s 186ms/step - loss: 1.1193 - acc: 0.5771 - val_loss: 1.1430 - val_acc: 0.5712\n",
            "\n",
            "Epoch 00062: val_acc did not improve from 0.58654\n",
            "Epoch 63/300\n",
            "224/224 [==============================] - 42s 185ms/step - loss: 1.1178 - acc: 0.5768 - val_loss: 1.1297 - val_acc: 0.5660\n",
            "\n",
            "Epoch 00063: val_acc did not improve from 0.58654\n",
            "Epoch 64/300\n",
            "224/224 [==============================] - 41s 184ms/step - loss: 1.1284 - acc: 0.5772 - val_loss: 1.1498 - val_acc: 0.5692\n",
            "\n",
            "Epoch 00064: val_acc did not improve from 0.58654\n",
            "Epoch 65/300\n",
            "224/224 [==============================] - 43s 191ms/step - loss: 1.1212 - acc: 0.5754 - val_loss: 1.1639 - val_acc: 0.5585\n",
            "\n",
            "Epoch 00065: val_acc did not improve from 0.58654\n",
            "Epoch 66/300\n",
            "224/224 [==============================] - 42s 187ms/step - loss: 1.1190 - acc: 0.5773 - val_loss: 1.1067 - val_acc: 0.5738\n",
            "\n",
            "Epoch 00066: val_acc did not improve from 0.58654\n",
            "Epoch 67/300\n",
            "224/224 [==============================] - 42s 188ms/step - loss: 1.1269 - acc: 0.5723 - val_loss: 1.1494 - val_acc: 0.5620\n",
            "\n",
            "Epoch 00067: val_acc did not improve from 0.58654\n",
            "Epoch 68/300\n",
            "224/224 [==============================] - 42s 186ms/step - loss: 1.1224 - acc: 0.5781 - val_loss: 1.0742 - val_acc: 0.5955\n",
            "\n",
            "Epoch 00068: val_acc improved from 0.58654 to 0.59549, saving model to Try3/Model.68-0.5955.hdf5\n",
            "Epoch 69/300\n",
            "224/224 [==============================] - 42s 186ms/step - loss: 1.1246 - acc: 0.5751 - val_loss: 1.1210 - val_acc: 0.5701\n",
            "\n",
            "Epoch 00069: val_acc did not improve from 0.59549\n",
            "Epoch 70/300\n",
            "224/224 [==============================] - 42s 186ms/step - loss: 1.1131 - acc: 0.5807 - val_loss: 1.1318 - val_acc: 0.5709\n",
            "\n",
            "Epoch 00070: val_acc did not improve from 0.59549\n",
            "Epoch 71/300\n",
            "224/224 [==============================] - 41s 185ms/step - loss: 1.1214 - acc: 0.5769 - val_loss: 1.0938 - val_acc: 0.5862\n",
            "\n",
            "Epoch 00071: val_acc did not improve from 0.59549\n",
            "Epoch 72/300\n",
            "224/224 [==============================] - 43s 193ms/step - loss: 1.1224 - acc: 0.5744 - val_loss: 1.1042 - val_acc: 0.5784\n",
            "\n",
            "Epoch 00072: val_acc did not improve from 0.59549\n",
            "Epoch 73/300\n",
            "224/224 [==============================] - 43s 190ms/step - loss: 1.1220 - acc: 0.5723 - val_loss: 1.1404 - val_acc: 0.5727\n",
            "\n",
            "Epoch 00073: val_acc did not improve from 0.59549\n",
            "Epoch 74/300\n",
            "224/224 [==============================] - 43s 190ms/step - loss: 1.1060 - acc: 0.5801 - val_loss: 1.1086 - val_acc: 0.5779\n",
            "\n",
            "Epoch 00074: val_acc did not improve from 0.59549\n",
            "Epoch 75/300\n",
            "224/224 [==============================] - 42s 189ms/step - loss: 1.1162 - acc: 0.5761 - val_loss: 1.1214 - val_acc: 0.5637\n",
            "\n",
            "Epoch 00075: val_acc did not improve from 0.59549\n",
            "Epoch 76/300\n",
            "224/224 [==============================] - 42s 189ms/step - loss: 1.1212 - acc: 0.5784 - val_loss: 1.0931 - val_acc: 0.5888\n",
            "\n",
            "Epoch 00076: val_acc did not improve from 0.59549\n",
            "Epoch 77/300\n",
            "224/224 [==============================] - 42s 187ms/step - loss: 1.1208 - acc: 0.5771 - val_loss: 1.1183 - val_acc: 0.5813\n",
            "\n",
            "Epoch 00077: val_acc did not improve from 0.59549\n",
            "Epoch 78/300\n",
            "224/224 [==============================] - 41s 185ms/step - loss: 1.1145 - acc: 0.5784 - val_loss: 1.0766 - val_acc: 0.5836\n",
            "\n",
            "Epoch 00078: val_acc did not improve from 0.59549\n",
            "Epoch 79/300\n",
            "224/224 [==============================] - 42s 185ms/step - loss: 1.1082 - acc: 0.5792 - val_loss: 1.1538 - val_acc: 0.5614\n",
            "\n",
            "Epoch 00079: val_acc did not improve from 0.59549\n",
            "Epoch 80/300\n",
            "224/224 [==============================] - 43s 192ms/step - loss: 1.1112 - acc: 0.5806 - val_loss: 1.1186 - val_acc: 0.5828\n",
            "\n",
            "Epoch 00080: val_acc did not improve from 0.59549\n",
            "Epoch 81/300\n",
            "224/224 [==============================] - 42s 189ms/step - loss: 1.1129 - acc: 0.5790 - val_loss: 1.1152 - val_acc: 0.5738\n",
            "\n",
            "Epoch 00081: val_acc did not improve from 0.59549\n",
            "Epoch 82/300\n",
            "224/224 [==============================] - 42s 188ms/step - loss: 1.1118 - acc: 0.5774 - val_loss: 1.1110 - val_acc: 0.5750\n",
            "\n",
            "Epoch 00082: val_acc did not improve from 0.59549\n",
            "Epoch 83/300\n",
            "224/224 [==============================] - 42s 188ms/step - loss: 1.1180 - acc: 0.5771 - val_loss: 1.1153 - val_acc: 0.5834\n",
            "\n",
            "Epoch 00083: val_acc did not improve from 0.59549\n",
            "Epoch 84/300\n",
            "224/224 [==============================] - 42s 186ms/step - loss: 1.1038 - acc: 0.5836 - val_loss: 1.1573 - val_acc: 0.5600\n",
            "\n",
            "Epoch 00084: val_acc did not improve from 0.59549\n",
            "Epoch 85/300\n",
            "224/224 [==============================] - 41s 185ms/step - loss: 1.1034 - acc: 0.5816 - val_loss: 1.0894 - val_acc: 0.5842\n",
            "\n",
            "Epoch 00085: val_acc did not improve from 0.59549\n",
            "Epoch 86/300\n",
            "224/224 [==============================] - 42s 185ms/step - loss: 1.1125 - acc: 0.5784 - val_loss: 1.1372 - val_acc: 0.5550\n",
            "\n",
            "Epoch 00086: val_acc did not improve from 0.59549\n",
            "Epoch 87/300\n",
            "224/224 [==============================] - 43s 192ms/step - loss: 1.1037 - acc: 0.5822 - val_loss: 1.1174 - val_acc: 0.5773\n",
            "\n",
            "Epoch 00087: val_acc did not improve from 0.59549\n",
            "Epoch 88/300\n",
            "224/224 [==============================] - 43s 192ms/step - loss: 1.1032 - acc: 0.5801 - val_loss: 1.1227 - val_acc: 0.5711\n",
            "\n",
            "Epoch 00088: val_acc did not improve from 0.59549\n",
            "Epoch 89/300\n",
            "224/224 [==============================] - 42s 187ms/step - loss: 1.1080 - acc: 0.5818 - val_loss: 1.1012 - val_acc: 0.5831\n",
            "\n",
            "Epoch 00089: val_acc did not improve from 0.59549\n",
            "Epoch 90/300\n",
            "224/224 [==============================] - 43s 191ms/step - loss: 1.0999 - acc: 0.5848 - val_loss: 1.1018 - val_acc: 0.5825\n",
            "\n",
            "Epoch 00090: val_acc did not improve from 0.59549\n",
            "Epoch 91/300\n",
            "224/224 [==============================] - 42s 188ms/step - loss: 1.1034 - acc: 0.5815 - val_loss: 1.1050 - val_acc: 0.5854\n",
            "\n",
            "Epoch 00091: val_acc did not improve from 0.59549\n",
            "Epoch 92/300\n",
            "224/224 [==============================] - 42s 186ms/step - loss: 1.1097 - acc: 0.5811 - val_loss: 1.1079 - val_acc: 0.5761\n",
            "\n",
            "Epoch 00092: val_acc did not improve from 0.59549\n",
            "Epoch 93/300\n",
            "224/224 [==============================] - 41s 185ms/step - loss: 1.0986 - acc: 0.5858 - val_loss: 1.0983 - val_acc: 0.5825\n",
            "\n",
            "Epoch 00093: val_acc did not improve from 0.59549\n",
            "Epoch 94/300\n",
            "224/224 [==============================] - 41s 184ms/step - loss: 1.1016 - acc: 0.5833 - val_loss: 1.1170 - val_acc: 0.5712\n",
            "\n",
            "Epoch 00094: val_acc did not improve from 0.59549\n",
            "Epoch 95/300\n",
            "224/224 [==============================] - 43s 192ms/step - loss: 1.0967 - acc: 0.5842 - val_loss: 1.1138 - val_acc: 0.5787\n",
            "\n",
            "Epoch 00095: val_acc did not improve from 0.59549\n",
            "Epoch 96/300\n",
            "224/224 [==============================] - 43s 190ms/step - loss: 1.1053 - acc: 0.5817 - val_loss: 1.1370 - val_acc: 0.5634\n",
            "\n",
            "Epoch 00096: val_acc did not improve from 0.59549\n",
            "Epoch 97/300\n",
            "224/224 [==============================] - 42s 189ms/step - loss: 1.1020 - acc: 0.5826 - val_loss: 1.0710 - val_acc: 0.5940\n",
            "\n",
            "Epoch 00097: val_acc did not improve from 0.59549\n",
            "Epoch 98/300\n",
            "224/224 [==============================] - 41s 184ms/step - loss: 1.0941 - acc: 0.5855 - val_loss: 1.1520 - val_acc: 0.5568\n",
            "\n",
            "Epoch 00098: val_acc did not improve from 0.59549\n",
            "Epoch 99/300\n",
            " 59/224 [======>.......................] - ETA: 26s - loss: 1.1044 - acc: 0.5847"
          ],
          "name": "stdout"
        }
      ]
    },
    {
      "metadata": {
        "id": "LWKM44mUcjTj",
        "colab_type": "code",
        "colab": {}
      },
      "cell_type": "code",
      "source": [
        "model.load_weights('Try1/Model.284-0.6123.hdf5')"
      ],
      "execution_count": 0,
      "outputs": []
    },
    {
      "metadata": {
        "id": "uztlsFWpLJZ4",
        "colab_type": "code",
        "outputId": "ea32678b-3df9-41c1-bf8a-4ddd93b83372",
        "colab": {
          "base_uri": "https://localhost:8080/",
          "height": 141
        }
      },
      "cell_type": "code",
      "source": [
        "test_generator = test_datagen.flow_from_directory(\n",
        "    directory=r\"data/Test/\",\n",
        "    target_size=(48, 48),\n",
        "    color_mode=\"grayscale\",\n",
        "    batch_size=1,\n",
        "    class_mode=None,\n",
        "    shuffle=False,\n",
        "    seed=42\n",
        "    \n",
        ")\n",
        "\n",
        "test_generator.reset()\n",
        "pred=model.predict_generator(test_generator,verbose=1,steps=3589)\n",
        "predicted_class_indices=np.argmax(pred,axis=1)"
      ],
      "execution_count": 0,
      "outputs": [
        {
          "output_type": "stream",
          "text": [
            "Found 3589 images belonging to 1 classes.\n",
            "  15/3589 [..............................] - ETA: 43s"
          ],
          "name": "stdout"
        },
        {
          "output_type": "stream",
          "text": [
            "/usr/local/lib/python3.6/dist-packages/keras_preprocessing/image/image_data_generator.py:699: UserWarning: This ImageDataGenerator specifies `featurewise_center`, but it hasn't been fit on any training data. Fit it first by calling `.fit(numpy_data)`.\n",
            "  warnings.warn('This ImageDataGenerator specifies '\n",
            "/usr/local/lib/python3.6/dist-packages/keras_preprocessing/image/image_data_generator.py:707: UserWarning: This ImageDataGenerator specifies `featurewise_std_normalization`, but it hasn't been fit on any training data. Fit it first by calling `.fit(numpy_data)`.\n",
            "  warnings.warn('This ImageDataGenerator specifies '\n"
          ],
          "name": "stderr"
        },
        {
          "output_type": "stream",
          "text": [
            "3589/3589 [==============================] - 32s 9ms/step\n"
          ],
          "name": "stdout"
        }
      ]
    },
    {
      "metadata": {
        "id": "XA60vvoWMppm",
        "colab_type": "code",
        "outputId": "3eb0a757-e60a-42df-c237-a333767678ec",
        "colab": {
          "base_uri": "https://localhost:8080/",
          "height": 35
        }
      },
      "cell_type": "code",
      "source": [
        "print(predicted_class_indices)"
      ],
      "execution_count": 0,
      "outputs": [
        {
          "output_type": "stream",
          "text": [
            "[6 3 3 ... 5 5 4]\n"
          ],
          "name": "stdout"
        }
      ]
    },
    {
      "metadata": {
        "id": "6mYB6VJMNn3D",
        "colab_type": "code",
        "colab": {}
      },
      "cell_type": "code",
      "source": [
        "labels = (train_generator.class_indices)\n",
        "labels = dict((v,k) for k,v in labels.items())\n",
        "predictions = [labels[k] for k in predicted_class_indices]"
      ],
      "execution_count": 0,
      "outputs": []
    },
    {
      "metadata": {
        "id": "-XrgFA4lN6fV",
        "colab_type": "code",
        "colab": {}
      },
      "cell_type": "code",
      "source": [
        "import pandas as pd\n",
        "filenames=test_generator.filenames\n",
        "results=pd.DataFrame({\"Filename\":filenames,\n",
        "                      \"Predictions\":predictions})\n",
        "results.to_csv(\"Results6123.csv\",index=False)"
      ],
      "execution_count": 0,
      "outputs": []
    },
    {
      "metadata": {
        "id": "Yq54nMpVN7nd",
        "colab_type": "code",
        "outputId": "4ca1cf4e-a1ea-4352-9c3c-9ab7db6f1205",
        "colab": {
          "base_uri": "https://localhost:8080/",
          "height": 35
        }
      },
      "cell_type": "code",
      "source": [
        "pwd"
      ],
      "execution_count": 0,
      "outputs": [
        {
          "output_type": "execute_result",
          "data": {
            "text/plain": [
              "'/content/Emotion-Classification-Facial-Images-FER2013'"
            ]
          },
          "metadata": {
            "tags": []
          },
          "execution_count": 39
        }
      ]
    },
    {
      "metadata": {
        "id": "MnHC0lypwY_0",
        "colab_type": "code",
        "colab": {}
      },
      "cell_type": "code",
      "source": [
        "mkdir Try3"
      ],
      "execution_count": 0,
      "outputs": []
    },
    {
      "metadata": {
        "id": "ewWEb1lCwa4u",
        "colab_type": "code",
        "outputId": "7d812e23-c456-4259-f6f4-e1edea3b5832",
        "colab": {
          "base_uri": "https://localhost:8080/",
          "height": 52
        }
      },
      "cell_type": "code",
      "source": [
        "ls"
      ],
      "execution_count": 13,
      "outputs": [
        {
          "output_type": "stream",
          "text": [
            "\u001b[0m\u001b[01;34mdata\u001b[0m/           evaluate.py            \u001b[01;34m__pycache__\u001b[0m/  \u001b[01;34mResults\u001b[0m/  \u001b[01;34mTry3\u001b[0m/\n",
            "data_loader.py  image_preprocessor.py  README.md     \u001b[01;34mTry2\u001b[0m/\n"
          ],
          "name": "stdout"
        }
      ]
    },
    {
      "metadata": {
        "id": "IY0oEAnkwcc_",
        "colab_type": "code",
        "outputId": "fd392e3b-24b2-4af6-f5c2-593de1c3b762",
        "colab": {
          "base_uri": "https://localhost:8080/",
          "height": 35
        }
      },
      "cell_type": "code",
      "source": [
        "cd .."
      ],
      "execution_count": 0,
      "outputs": [
        {
          "output_type": "stream",
          "text": [
            "/content/Emotion-Classification-Facial-Images-FER2013\n"
          ],
          "name": "stdout"
        }
      ]
    },
    {
      "metadata": {
        "id": "Mr4rBE3CweIT",
        "colab_type": "code",
        "colab": {}
      },
      "cell_type": "code",
      "source": [
        ""
      ],
      "execution_count": 0,
      "outputs": []
    }
  ]
}